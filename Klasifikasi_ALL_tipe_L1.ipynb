{
 "cells": [
  {
   "cell_type": "markdown",
   "metadata": {},
   "source": [
    "# ACUTE LYMPHOBLASTIC LEUKEMIA CLASSIFICATION USING MACHINE LEARNING\n",
    "\n",
    "<font color=blue>Author : Arnanda Prabaswara</font>\n",
    "\n",
    "In this notebook, we will build various machine learnig models to classify cancer cell in Acute Lymphobastic Leukemia disease. In short, Acute Lymphoblastic Leukemia (ALL) is blood cancer that can be identified by observing spread of the cancer cell which is lympholastic cell. \n",
    "In this project, our approach is using various machine learning model, such as Support Vector Machine, K-Nearest Neighors, Random Forest, Naive Bayes and Neural Network, to classify lymphoblast (cancer cell) and non lymphoblast cell (healthy cell)."
   ]
  },
  {
   "cell_type": "code",
   "execution_count": 2,
   "metadata": {},
   "outputs": [
    {
     "data": {
      "text/html": [
       "        <script type=\"text/javascript\">\n",
       "        window.PlotlyConfig = {MathJaxConfig: 'local'};\n",
       "        if (window.MathJax) {MathJax.Hub.Config({SVG: {font: \"STIX-Web\"}});}\n",
       "        if (typeof require !== 'undefined') {\n",
       "        require.undef(\"plotly\");\n",
       "        requirejs.config({\n",
       "            paths: {\n",
       "                'plotly': ['https://cdn.plot.ly/plotly-latest.min']\n",
       "            }\n",
       "        });\n",
       "        require(['plotly'], function(Plotly) {\n",
       "            window._Plotly = Plotly;\n",
       "        });\n",
       "        }\n",
       "        </script>\n",
       "        "
      ]
     },
     "metadata": {},
     "output_type": "display_data"
    }
   ],
   "source": [
    "import pandas as pd\n",
    "\n",
    "import plotly\n",
    "import plotly.graph_objs as go\n",
    "from plotly.offline import download_plotlyjs, init_notebook_mode, plot, iplot\n",
    "\n",
    "init_notebook_mode(connected=True)\n",
    "\n"
   ]
  },
  {
   "cell_type": "markdown",
   "metadata": {},
   "source": [
    "First, we load the excel data which contain features data of lymphoblast cell and non lymphoblast cell"
   ]
  },
  {
   "cell_type": "code",
   "execution_count": null,
   "metadata": {},
   "outputs": [],
   "source": [
    "limfoblas = pd.read_excel('F:/Teknik-Fisika/Skripsi/Klasifikasi ALL/Data fix.xlsx', sheet_name='limfoblas')\n",
    "limfosit = pd.read_excel('F:/Teknik-Fisika/Skripsi/Klasifikasi ALL/Data fix.xlsx', sheet_name='limfosit')\n",
    "segmen = pd.read_excel('F:/Teknik-Fisika/Skripsi/Klasifikasi ALL/Data fix.xlsx', sheet_name='segmen')\n",
    "stab = pd.read_excel('F:/Teknik-Fisika/Skripsi/Klasifikasi ALL/Data fix.xlsx', sheet_name='stab')\n",
    "monosit = pd.read_excel('F:/Teknik-Fisika/Skripsi/Klasifikasi ALL/Data fix.xlsx', sheet_name='monosit')\n",
    "metamielosit = pd.read_excel('F:/Teknik-Fisika/Skripsi/Klasifikasi ALL/Data fix.xlsx', sheet_name='metamielosit')\n",
    "promonosit = pd.read_excel('F:/Teknik-Fisika/Skripsi/Klasifikasi ALL/Data fix.xlsx', sheet_name='promonosit')\n",
    "mielosit = pd.read_excel('F:/Teknik-Fisika/Skripsi/Klasifikasi ALL/Data fix.xlsx', sheet_name='mielosit')\n",
    "nrbc = pd.read_excel('F:/Teknik-Fisika/Skripsi/Klasifikasi ALL/Data fix.xlsx', sheet_name='nrbc')\n",
    "limfoma = pd.read_excel('F:/Teknik-Fisika/Skripsi/Klasifikasi ALL/Data fix.xlsx', sheet_name='limfoma')\n",
    "monoblas = pd.read_excel('F:/Teknik-Fisika/Skripsi/Klasifikasi ALL/Data fix.xlsx', sheet_name='monoblas')\n",
    "mieloblas = pd.read_excel('F:/Teknik-Fisika/Skripsi/Klasifikasi ALL/Data fix.xlsx', sheet_name='mieloblas')\n",
    "sel_plasma = pd.read_excel('F:/Teknik-Fisika/Skripsi/Klasifikasi ALL/Data fix.xlsx', sheet_name='sel plasma')\n"
   ]
  },
  {
   "cell_type": "code",
   "execution_count": null,
   "metadata": {},
   "outputs": [],
   "source": [
    "frames = [limfoblas, limfosit, segmen, stab, monosit, metamielosit, promonosit, mielosit, nrbc, limfoma, monoblas, mieloblas, sel_plasma]\n",
    "df = pd.concat(frames, ignore_index=True)\n",
    "df.head()"
   ]
  },
  {
   "cell_type": "markdown",
   "metadata": {},
   "source": [
    "Convert excel data into csv format"
   ]
  },
  {
   "cell_type": "code",
   "execution_count": null,
   "metadata": {},
   "outputs": [],
   "source": [
    "df = df.rename(columns={\"No Citra\":\"No_Citra\"})\n",
    "df.to_csv(\"ALL_extraction.csv\", index=False)"
   ]
  },
  {
   "cell_type": "code",
   "execution_count": 3,
   "metadata": {
    "scrolled": true
   },
   "outputs": [
    {
     "data": {
      "text/html": [
       "<div>\n",
       "<style scoped>\n",
       "    .dataframe tbody tr th:only-of-type {\n",
       "        vertical-align: middle;\n",
       "    }\n",
       "\n",
       "    .dataframe tbody tr th {\n",
       "        vertical-align: top;\n",
       "    }\n",
       "\n",
       "    .dataframe thead th {\n",
       "        text-align: right;\n",
       "    }\n",
       "</style>\n",
       "<table border=\"1\" class=\"dataframe\">\n",
       "  <thead>\n",
       "    <tr style=\"text-align: right;\">\n",
       "      <th></th>\n",
       "      <th>No_Citra</th>\n",
       "      <th>LuasInti</th>\n",
       "      <th>KelilingInti</th>\n",
       "      <th>SolidityInti</th>\n",
       "      <th>GranularityInti</th>\n",
       "      <th>CircularityInti</th>\n",
       "      <th>RerataRInti</th>\n",
       "      <th>RerataGInti</th>\n",
       "      <th>RerataBInti</th>\n",
       "      <th>EntropiInti</th>\n",
       "      <th>...</th>\n",
       "      <th>EntropiSitoplasma</th>\n",
       "      <th>EnergiSitoplasma</th>\n",
       "      <th>KontrasSitoplasma</th>\n",
       "      <th>HomogenitasSitoplasma</th>\n",
       "      <th>LuasNormalInti</th>\n",
       "      <th>KelilingNormalInti</th>\n",
       "      <th>Eccentricity</th>\n",
       "      <th>LIperLP</th>\n",
       "      <th>KIperKP</th>\n",
       "      <th>Fraktal</th>\n",
       "    </tr>\n",
       "  </thead>\n",
       "  <tbody>\n",
       "    <tr>\n",
       "      <th>0</th>\n",
       "      <td>Limfoblas</td>\n",
       "      <td>163301</td>\n",
       "      <td>4488</td>\n",
       "      <td>0.322083</td>\n",
       "      <td>108.914566</td>\n",
       "      <td>0.101881</td>\n",
       "      <td>108.278999</td>\n",
       "      <td>2.660602</td>\n",
       "      <td>67.670677</td>\n",
       "      <td>1.484211</td>\n",
       "      <td>...</td>\n",
       "      <td>0.378619</td>\n",
       "      <td>0.841596</td>\n",
       "      <td>237.830643</td>\n",
       "      <td>0.945530</td>\n",
       "      <td>0.498148</td>\n",
       "      <td>1.951304</td>\n",
       "      <td>0.777343</td>\n",
       "      <td>0.863994</td>\n",
       "      <td>0.663709</td>\n",
       "      <td>1.8206</td>\n",
       "    </tr>\n",
       "    <tr>\n",
       "      <th>1</th>\n",
       "      <td>Limfoblas</td>\n",
       "      <td>67873</td>\n",
       "      <td>2718</td>\n",
       "      <td>0.320712</td>\n",
       "      <td>107.534103</td>\n",
       "      <td>0.115454</td>\n",
       "      <td>102.630638</td>\n",
       "      <td>3.511477</td>\n",
       "      <td>63.413055</td>\n",
       "      <td>1.442138</td>\n",
       "      <td>...</td>\n",
       "      <td>0.587819</td>\n",
       "      <td>0.753984</td>\n",
       "      <td>491.352722</td>\n",
       "      <td>0.914822</td>\n",
       "      <td>0.478215</td>\n",
       "      <td>1.795244</td>\n",
       "      <td>0.831555</td>\n",
       "      <td>0.794384</td>\n",
       "      <td>0.443249</td>\n",
       "      <td>1.7671</td>\n",
       "    </tr>\n",
       "    <tr>\n",
       "      <th>2</th>\n",
       "      <td>Limfoblas</td>\n",
       "      <td>97163</td>\n",
       "      <td>3069</td>\n",
       "      <td>0.330075</td>\n",
       "      <td>105.044075</td>\n",
       "      <td>0.129633</td>\n",
       "      <td>135.054153</td>\n",
       "      <td>2.966990</td>\n",
       "      <td>82.312477</td>\n",
       "      <td>1.685688</td>\n",
       "      <td>...</td>\n",
       "      <td>0.205449</td>\n",
       "      <td>0.919587</td>\n",
       "      <td>211.439163</td>\n",
       "      <td>0.965006</td>\n",
       "      <td>0.624609</td>\n",
       "      <td>1.944867</td>\n",
       "      <td>0.944942</td>\n",
       "      <td>0.945138</td>\n",
       "      <td>0.964185</td>\n",
       "      <td>1.7987</td>\n",
       "    </tr>\n",
       "    <tr>\n",
       "      <th>3</th>\n",
       "      <td>Limfoblas</td>\n",
       "      <td>74163</td>\n",
       "      <td>2880</td>\n",
       "      <td>0.327015</td>\n",
       "      <td>90.916359</td>\n",
       "      <td>0.112360</td>\n",
       "      <td>105.975555</td>\n",
       "      <td>2.767091</td>\n",
       "      <td>53.962898</td>\n",
       "      <td>1.567923</td>\n",
       "      <td>...</td>\n",
       "      <td>0.515515</td>\n",
       "      <td>0.772667</td>\n",
       "      <td>211.412567</td>\n",
       "      <td>0.924331</td>\n",
       "      <td>0.579308</td>\n",
       "      <td>2.011173</td>\n",
       "      <td>0.833314</td>\n",
       "      <td>0.834746</td>\n",
       "      <td>0.675106</td>\n",
       "      <td>1.7654</td>\n",
       "    </tr>\n",
       "    <tr>\n",
       "      <th>4</th>\n",
       "      <td>Limfoblas</td>\n",
       "      <td>199997</td>\n",
       "      <td>4632</td>\n",
       "      <td>0.327324</td>\n",
       "      <td>111.507469</td>\n",
       "      <td>0.117138</td>\n",
       "      <td>132.304062</td>\n",
       "      <td>3.442453</td>\n",
       "      <td>97.157463</td>\n",
       "      <td>1.518860</td>\n",
       "      <td>...</td>\n",
       "      <td>0.464202</td>\n",
       "      <td>0.799417</td>\n",
       "      <td>224.906448</td>\n",
       "      <td>0.933804</td>\n",
       "      <td>0.585413</td>\n",
       "      <td>1.981181</td>\n",
       "      <td>0.877510</td>\n",
       "      <td>0.851595</td>\n",
       "      <td>0.795057</td>\n",
       "      <td>1.8390</td>\n",
       "    </tr>\n",
       "  </tbody>\n",
       "</table>\n",
       "<p>5 rows × 31 columns</p>\n",
       "</div>"
      ],
      "text/plain": [
       "    No_Citra  LuasInti  KelilingInti  SolidityInti  GranularityInti  \\\n",
       "0  Limfoblas    163301          4488      0.322083       108.914566   \n",
       "1  Limfoblas     67873          2718      0.320712       107.534103   \n",
       "2  Limfoblas     97163          3069      0.330075       105.044075   \n",
       "3  Limfoblas     74163          2880      0.327015        90.916359   \n",
       "4  Limfoblas    199997          4632      0.327324       111.507469   \n",
       "\n",
       "   CircularityInti  RerataRInti  RerataGInti  RerataBInti  EntropiInti  ...  \\\n",
       "0         0.101881   108.278999     2.660602    67.670677     1.484211  ...   \n",
       "1         0.115454   102.630638     3.511477    63.413055     1.442138  ...   \n",
       "2         0.129633   135.054153     2.966990    82.312477     1.685688  ...   \n",
       "3         0.112360   105.975555     2.767091    53.962898     1.567923  ...   \n",
       "4         0.117138   132.304062     3.442453    97.157463     1.518860  ...   \n",
       "\n",
       "   EntropiSitoplasma  EnergiSitoplasma  KontrasSitoplasma  \\\n",
       "0           0.378619          0.841596         237.830643   \n",
       "1           0.587819          0.753984         491.352722   \n",
       "2           0.205449          0.919587         211.439163   \n",
       "3           0.515515          0.772667         211.412567   \n",
       "4           0.464202          0.799417         224.906448   \n",
       "\n",
       "   HomogenitasSitoplasma  LuasNormalInti  KelilingNormalInti  Eccentricity  \\\n",
       "0               0.945530        0.498148            1.951304      0.777343   \n",
       "1               0.914822        0.478215            1.795244      0.831555   \n",
       "2               0.965006        0.624609            1.944867      0.944942   \n",
       "3               0.924331        0.579308            2.011173      0.833314   \n",
       "4               0.933804        0.585413            1.981181      0.877510   \n",
       "\n",
       "   LIperLP    KIperKP  Fraktal  \n",
       "0  0.863994  0.663709   1.8206  \n",
       "1  0.794384  0.443249   1.7671  \n",
       "2  0.945138  0.964185   1.7987  \n",
       "3  0.834746  0.675106   1.7654  \n",
       "4  0.851595  0.795057   1.8390  \n",
       "\n",
       "[5 rows x 31 columns]"
      ]
     },
     "execution_count": 3,
     "metadata": {},
     "output_type": "execute_result"
    }
   ],
   "source": [
    "al = pd.read_csv(\"ALL_extraction.csv\")\n",
    "al.head()"
   ]
  },
  {
   "cell_type": "code",
   "execution_count": null,
   "metadata": {},
   "outputs": [],
   "source": [
    "al.dtypes"
   ]
  },
  {
   "cell_type": "markdown",
   "metadata": {},
   "source": [
    "We look data distrbution of cells"
   ]
  },
  {
   "cell_type": "code",
   "execution_count": null,
   "metadata": {
    "scrolled": false
   },
   "outputs": [],
   "source": [
    "data = go.Histogram(x=al.No_Citra)\n",
    "fig = go.Figure(data=data)\n",
    "iplot(fig)"
   ]
  },
  {
   "cell_type": "markdown",
   "metadata": {},
   "source": [
    "We can know from the Histogram chart, there are some classes besides lymphoblast cell class. Another class besides lymphoblast, we grouped in one class, non lymphoblast class."
   ]
  },
  {
   "cell_type": "code",
   "execution_count": 4,
   "metadata": {},
   "outputs": [
    {
     "data": {
      "text/html": [
       "<div>\n",
       "<style scoped>\n",
       "    .dataframe tbody tr th:only-of-type {\n",
       "        vertical-align: middle;\n",
       "    }\n",
       "\n",
       "    .dataframe tbody tr th {\n",
       "        vertical-align: top;\n",
       "    }\n",
       "\n",
       "    .dataframe thead th {\n",
       "        text-align: right;\n",
       "    }\n",
       "</style>\n",
       "<table border=\"1\" class=\"dataframe\">\n",
       "  <thead>\n",
       "    <tr style=\"text-align: right;\">\n",
       "      <th></th>\n",
       "      <th>LuasInti</th>\n",
       "      <th>KelilingInti</th>\n",
       "      <th>SolidityInti</th>\n",
       "      <th>GranularityInti</th>\n",
       "      <th>CircularityInti</th>\n",
       "      <th>RerataRInti</th>\n",
       "      <th>RerataGInti</th>\n",
       "      <th>RerataBInti</th>\n",
       "      <th>EntropiInti</th>\n",
       "      <th>EnergiInti</th>\n",
       "      <th>...</th>\n",
       "      <th>EntropiSitoplasma</th>\n",
       "      <th>EnergiSitoplasma</th>\n",
       "      <th>KontrasSitoplasma</th>\n",
       "      <th>HomogenitasSitoplasma</th>\n",
       "      <th>LuasNormalInti</th>\n",
       "      <th>KelilingNormalInti</th>\n",
       "      <th>Eccentricity</th>\n",
       "      <th>LIperLP</th>\n",
       "      <th>KIperKP</th>\n",
       "      <th>Fraktal</th>\n",
       "    </tr>\n",
       "    <tr>\n",
       "      <th>No_Citra</th>\n",
       "      <th></th>\n",
       "      <th></th>\n",
       "      <th></th>\n",
       "      <th></th>\n",
       "      <th></th>\n",
       "      <th></th>\n",
       "      <th></th>\n",
       "      <th></th>\n",
       "      <th></th>\n",
       "      <th></th>\n",
       "      <th></th>\n",
       "      <th></th>\n",
       "      <th></th>\n",
       "      <th></th>\n",
       "      <th></th>\n",
       "      <th></th>\n",
       "      <th></th>\n",
       "      <th></th>\n",
       "      <th></th>\n",
       "      <th></th>\n",
       "      <th></th>\n",
       "    </tr>\n",
       "  </thead>\n",
       "  <tbody>\n",
       "    <tr>\n",
       "      <th>Limfoblas</th>\n",
       "      <td>163301</td>\n",
       "      <td>4488</td>\n",
       "      <td>0.322083</td>\n",
       "      <td>108.914566</td>\n",
       "      <td>0.101881</td>\n",
       "      <td>108.278999</td>\n",
       "      <td>2.660602</td>\n",
       "      <td>67.670677</td>\n",
       "      <td>1.484211</td>\n",
       "      <td>0.251403</td>\n",
       "      <td>...</td>\n",
       "      <td>0.378619</td>\n",
       "      <td>0.841596</td>\n",
       "      <td>237.830643</td>\n",
       "      <td>0.945530</td>\n",
       "      <td>0.498148</td>\n",
       "      <td>1.951304</td>\n",
       "      <td>0.777343</td>\n",
       "      <td>0.863994</td>\n",
       "      <td>0.663709</td>\n",
       "      <td>1.8206</td>\n",
       "    </tr>\n",
       "    <tr>\n",
       "      <th>Limfoblas</th>\n",
       "      <td>67873</td>\n",
       "      <td>2718</td>\n",
       "      <td>0.320712</td>\n",
       "      <td>107.534103</td>\n",
       "      <td>0.115454</td>\n",
       "      <td>102.630638</td>\n",
       "      <td>3.511477</td>\n",
       "      <td>63.413055</td>\n",
       "      <td>1.442138</td>\n",
       "      <td>0.270630</td>\n",
       "      <td>...</td>\n",
       "      <td>0.587819</td>\n",
       "      <td>0.753984</td>\n",
       "      <td>491.352722</td>\n",
       "      <td>0.914822</td>\n",
       "      <td>0.478215</td>\n",
       "      <td>1.795244</td>\n",
       "      <td>0.831555</td>\n",
       "      <td>0.794384</td>\n",
       "      <td>0.443249</td>\n",
       "      <td>1.7671</td>\n",
       "    </tr>\n",
       "    <tr>\n",
       "      <th>Limfoblas</th>\n",
       "      <td>97163</td>\n",
       "      <td>3069</td>\n",
       "      <td>0.330075</td>\n",
       "      <td>105.044075</td>\n",
       "      <td>0.129633</td>\n",
       "      <td>135.054153</td>\n",
       "      <td>2.966990</td>\n",
       "      <td>82.312477</td>\n",
       "      <td>1.685688</td>\n",
       "      <td>0.142714</td>\n",
       "      <td>...</td>\n",
       "      <td>0.205449</td>\n",
       "      <td>0.919587</td>\n",
       "      <td>211.439163</td>\n",
       "      <td>0.965006</td>\n",
       "      <td>0.624609</td>\n",
       "      <td>1.944867</td>\n",
       "      <td>0.944942</td>\n",
       "      <td>0.945138</td>\n",
       "      <td>0.964185</td>\n",
       "      <td>1.7987</td>\n",
       "    </tr>\n",
       "    <tr>\n",
       "      <th>Limfoblas</th>\n",
       "      <td>74163</td>\n",
       "      <td>2880</td>\n",
       "      <td>0.327015</td>\n",
       "      <td>90.916359</td>\n",
       "      <td>0.112360</td>\n",
       "      <td>105.975555</td>\n",
       "      <td>2.767091</td>\n",
       "      <td>53.962898</td>\n",
       "      <td>1.567923</td>\n",
       "      <td>0.178496</td>\n",
       "      <td>...</td>\n",
       "      <td>0.515515</td>\n",
       "      <td>0.772667</td>\n",
       "      <td>211.412567</td>\n",
       "      <td>0.924331</td>\n",
       "      <td>0.579308</td>\n",
       "      <td>2.011173</td>\n",
       "      <td>0.833314</td>\n",
       "      <td>0.834746</td>\n",
       "      <td>0.675106</td>\n",
       "      <td>1.7654</td>\n",
       "    </tr>\n",
       "    <tr>\n",
       "      <th>Limfoblas</th>\n",
       "      <td>199997</td>\n",
       "      <td>4632</td>\n",
       "      <td>0.327324</td>\n",
       "      <td>111.507469</td>\n",
       "      <td>0.117138</td>\n",
       "      <td>132.304062</td>\n",
       "      <td>3.442453</td>\n",
       "      <td>97.157463</td>\n",
       "      <td>1.518860</td>\n",
       "      <td>0.176372</td>\n",
       "      <td>...</td>\n",
       "      <td>0.464202</td>\n",
       "      <td>0.799417</td>\n",
       "      <td>224.906448</td>\n",
       "      <td>0.933804</td>\n",
       "      <td>0.585413</td>\n",
       "      <td>1.981181</td>\n",
       "      <td>0.877510</td>\n",
       "      <td>0.851595</td>\n",
       "      <td>0.795057</td>\n",
       "      <td>1.8390</td>\n",
       "    </tr>\n",
       "  </tbody>\n",
       "</table>\n",
       "<p>5 rows × 30 columns</p>\n",
       "</div>"
      ],
      "text/plain": [
       "           LuasInti  KelilingInti  SolidityInti  GranularityInti  \\\n",
       "No_Citra                                                           \n",
       "Limfoblas    163301          4488      0.322083       108.914566   \n",
       "Limfoblas     67873          2718      0.320712       107.534103   \n",
       "Limfoblas     97163          3069      0.330075       105.044075   \n",
       "Limfoblas     74163          2880      0.327015        90.916359   \n",
       "Limfoblas    199997          4632      0.327324       111.507469   \n",
       "\n",
       "           CircularityInti  RerataRInti  RerataGInti  RerataBInti  \\\n",
       "No_Citra                                                            \n",
       "Limfoblas         0.101881   108.278999     2.660602    67.670677   \n",
       "Limfoblas         0.115454   102.630638     3.511477    63.413055   \n",
       "Limfoblas         0.129633   135.054153     2.966990    82.312477   \n",
       "Limfoblas         0.112360   105.975555     2.767091    53.962898   \n",
       "Limfoblas         0.117138   132.304062     3.442453    97.157463   \n",
       "\n",
       "           EntropiInti  EnergiInti  ...  EntropiSitoplasma  EnergiSitoplasma  \\\n",
       "No_Citra                            ...                                        \n",
       "Limfoblas     1.484211    0.251403  ...           0.378619          0.841596   \n",
       "Limfoblas     1.442138    0.270630  ...           0.587819          0.753984   \n",
       "Limfoblas     1.685688    0.142714  ...           0.205449          0.919587   \n",
       "Limfoblas     1.567923    0.178496  ...           0.515515          0.772667   \n",
       "Limfoblas     1.518860    0.176372  ...           0.464202          0.799417   \n",
       "\n",
       "           KontrasSitoplasma  HomogenitasSitoplasma  LuasNormalInti  \\\n",
       "No_Citra                                                              \n",
       "Limfoblas         237.830643               0.945530        0.498148   \n",
       "Limfoblas         491.352722               0.914822        0.478215   \n",
       "Limfoblas         211.439163               0.965006        0.624609   \n",
       "Limfoblas         211.412567               0.924331        0.579308   \n",
       "Limfoblas         224.906448               0.933804        0.585413   \n",
       "\n",
       "           KelilingNormalInti  Eccentricity  LIperLP    KIperKP  Fraktal  \n",
       "No_Citra                                                                  \n",
       "Limfoblas            1.951304      0.777343  0.863994  0.663709   1.8206  \n",
       "Limfoblas            1.795244      0.831555  0.794384  0.443249   1.7671  \n",
       "Limfoblas            1.944867      0.944942  0.945138  0.964185   1.7987  \n",
       "Limfoblas            2.011173      0.833314  0.834746  0.675106   1.7654  \n",
       "Limfoblas            1.981181      0.877510  0.851595  0.795057   1.8390  \n",
       "\n",
       "[5 rows x 30 columns]"
      ]
     },
     "execution_count": 4,
     "metadata": {},
     "output_type": "execute_result"
    }
   ],
   "source": [
    "al1 = pd.read_csv(\"ALL_extraction.csv\", index_col='No_Citra')\n",
    "al1.head()\n"
   ]
  },
  {
   "cell_type": "code",
   "execution_count": 5,
   "metadata": {},
   "outputs": [],
   "source": [
    "al2 = al1.rename(index={\n",
    "    'Limfoblas':'Limfoblas',\n",
    "    'Limfosit':'Non_Limfoblas',\n",
    "    'Segmen':'Non_Limfoblas',\n",
    "    'Stab':'Non_Limfoblas',\n",
    "    'Monosit':'Non_Limfoblas',\n",
    "    'Metamielosit':'Non_Limfoblas',\n",
    "    'Promonosit':'Non_Limfoblas',\n",
    "    'Mielosit':'Non_Limfoblas',\n",
    "    'NRBC':'Non_Limfoblas',\n",
    "    'Limfoma':'Non_Limfoblas',\n",
    "    'Monoblas':'Non_Limfoblas',\n",
    "    'Mieloblas':'Non_Limfoblas',\n",
    "    'Sel Plasma':'Non_Limfoblas'\n",
    "})\n"
   ]
  },
  {
   "cell_type": "code",
   "execution_count": 6,
   "metadata": {
    "scrolled": true
   },
   "outputs": [
    {
     "data": {
      "text/html": [
       "<div>\n",
       "<style scoped>\n",
       "    .dataframe tbody tr th:only-of-type {\n",
       "        vertical-align: middle;\n",
       "    }\n",
       "\n",
       "    .dataframe tbody tr th {\n",
       "        vertical-align: top;\n",
       "    }\n",
       "\n",
       "    .dataframe thead th {\n",
       "        text-align: right;\n",
       "    }\n",
       "</style>\n",
       "<table border=\"1\" class=\"dataframe\">\n",
       "  <thead>\n",
       "    <tr style=\"text-align: right;\">\n",
       "      <th></th>\n",
       "      <th>No_Citra</th>\n",
       "      <th>LuasInti</th>\n",
       "      <th>KelilingInti</th>\n",
       "      <th>SolidityInti</th>\n",
       "      <th>GranularityInti</th>\n",
       "      <th>CircularityInti</th>\n",
       "      <th>RerataRInti</th>\n",
       "      <th>RerataGInti</th>\n",
       "      <th>RerataBInti</th>\n",
       "      <th>EntropiInti</th>\n",
       "      <th>...</th>\n",
       "      <th>EntropiSitoplasma</th>\n",
       "      <th>EnergiSitoplasma</th>\n",
       "      <th>KontrasSitoplasma</th>\n",
       "      <th>HomogenitasSitoplasma</th>\n",
       "      <th>LuasNormalInti</th>\n",
       "      <th>KelilingNormalInti</th>\n",
       "      <th>Eccentricity</th>\n",
       "      <th>LIperLP</th>\n",
       "      <th>KIperKP</th>\n",
       "      <th>Fraktal</th>\n",
       "    </tr>\n",
       "  </thead>\n",
       "  <tbody>\n",
       "    <tr>\n",
       "      <th>0</th>\n",
       "      <td>Limfoblas</td>\n",
       "      <td>163301</td>\n",
       "      <td>4488</td>\n",
       "      <td>0.322083</td>\n",
       "      <td>108.914566</td>\n",
       "      <td>0.101881</td>\n",
       "      <td>108.278999</td>\n",
       "      <td>2.660602</td>\n",
       "      <td>67.670677</td>\n",
       "      <td>1.484211</td>\n",
       "      <td>...</td>\n",
       "      <td>0.378619</td>\n",
       "      <td>0.841596</td>\n",
       "      <td>237.830643</td>\n",
       "      <td>0.945530</td>\n",
       "      <td>0.498148</td>\n",
       "      <td>1.951304</td>\n",
       "      <td>0.777343</td>\n",
       "      <td>0.863994</td>\n",
       "      <td>0.663709</td>\n",
       "      <td>1.8206</td>\n",
       "    </tr>\n",
       "    <tr>\n",
       "      <th>1</th>\n",
       "      <td>Limfoblas</td>\n",
       "      <td>67873</td>\n",
       "      <td>2718</td>\n",
       "      <td>0.320712</td>\n",
       "      <td>107.534103</td>\n",
       "      <td>0.115454</td>\n",
       "      <td>102.630638</td>\n",
       "      <td>3.511477</td>\n",
       "      <td>63.413055</td>\n",
       "      <td>1.442138</td>\n",
       "      <td>...</td>\n",
       "      <td>0.587819</td>\n",
       "      <td>0.753984</td>\n",
       "      <td>491.352722</td>\n",
       "      <td>0.914822</td>\n",
       "      <td>0.478215</td>\n",
       "      <td>1.795244</td>\n",
       "      <td>0.831555</td>\n",
       "      <td>0.794384</td>\n",
       "      <td>0.443249</td>\n",
       "      <td>1.7671</td>\n",
       "    </tr>\n",
       "    <tr>\n",
       "      <th>2</th>\n",
       "      <td>Limfoblas</td>\n",
       "      <td>97163</td>\n",
       "      <td>3069</td>\n",
       "      <td>0.330075</td>\n",
       "      <td>105.044075</td>\n",
       "      <td>0.129633</td>\n",
       "      <td>135.054153</td>\n",
       "      <td>2.966990</td>\n",
       "      <td>82.312477</td>\n",
       "      <td>1.685688</td>\n",
       "      <td>...</td>\n",
       "      <td>0.205449</td>\n",
       "      <td>0.919587</td>\n",
       "      <td>211.439163</td>\n",
       "      <td>0.965006</td>\n",
       "      <td>0.624609</td>\n",
       "      <td>1.944867</td>\n",
       "      <td>0.944942</td>\n",
       "      <td>0.945138</td>\n",
       "      <td>0.964185</td>\n",
       "      <td>1.7987</td>\n",
       "    </tr>\n",
       "    <tr>\n",
       "      <th>3</th>\n",
       "      <td>Limfoblas</td>\n",
       "      <td>74163</td>\n",
       "      <td>2880</td>\n",
       "      <td>0.327015</td>\n",
       "      <td>90.916359</td>\n",
       "      <td>0.112360</td>\n",
       "      <td>105.975555</td>\n",
       "      <td>2.767091</td>\n",
       "      <td>53.962898</td>\n",
       "      <td>1.567923</td>\n",
       "      <td>...</td>\n",
       "      <td>0.515515</td>\n",
       "      <td>0.772667</td>\n",
       "      <td>211.412567</td>\n",
       "      <td>0.924331</td>\n",
       "      <td>0.579308</td>\n",
       "      <td>2.011173</td>\n",
       "      <td>0.833314</td>\n",
       "      <td>0.834746</td>\n",
       "      <td>0.675106</td>\n",
       "      <td>1.7654</td>\n",
       "    </tr>\n",
       "    <tr>\n",
       "      <th>4</th>\n",
       "      <td>Limfoblas</td>\n",
       "      <td>199997</td>\n",
       "      <td>4632</td>\n",
       "      <td>0.327324</td>\n",
       "      <td>111.507469</td>\n",
       "      <td>0.117138</td>\n",
       "      <td>132.304062</td>\n",
       "      <td>3.442453</td>\n",
       "      <td>97.157463</td>\n",
       "      <td>1.518860</td>\n",
       "      <td>...</td>\n",
       "      <td>0.464202</td>\n",
       "      <td>0.799417</td>\n",
       "      <td>224.906448</td>\n",
       "      <td>0.933804</td>\n",
       "      <td>0.585413</td>\n",
       "      <td>1.981181</td>\n",
       "      <td>0.877510</td>\n",
       "      <td>0.851595</td>\n",
       "      <td>0.795057</td>\n",
       "      <td>1.8390</td>\n",
       "    </tr>\n",
       "  </tbody>\n",
       "</table>\n",
       "<p>5 rows × 31 columns</p>\n",
       "</div>"
      ],
      "text/plain": [
       "    No_Citra  LuasInti  KelilingInti  SolidityInti  GranularityInti  \\\n",
       "0  Limfoblas    163301          4488      0.322083       108.914566   \n",
       "1  Limfoblas     67873          2718      0.320712       107.534103   \n",
       "2  Limfoblas     97163          3069      0.330075       105.044075   \n",
       "3  Limfoblas     74163          2880      0.327015        90.916359   \n",
       "4  Limfoblas    199997          4632      0.327324       111.507469   \n",
       "\n",
       "   CircularityInti  RerataRInti  RerataGInti  RerataBInti  EntropiInti  ...  \\\n",
       "0         0.101881   108.278999     2.660602    67.670677     1.484211  ...   \n",
       "1         0.115454   102.630638     3.511477    63.413055     1.442138  ...   \n",
       "2         0.129633   135.054153     2.966990    82.312477     1.685688  ...   \n",
       "3         0.112360   105.975555     2.767091    53.962898     1.567923  ...   \n",
       "4         0.117138   132.304062     3.442453    97.157463     1.518860  ...   \n",
       "\n",
       "   EntropiSitoplasma  EnergiSitoplasma  KontrasSitoplasma  \\\n",
       "0           0.378619          0.841596         237.830643   \n",
       "1           0.587819          0.753984         491.352722   \n",
       "2           0.205449          0.919587         211.439163   \n",
       "3           0.515515          0.772667         211.412567   \n",
       "4           0.464202          0.799417         224.906448   \n",
       "\n",
       "   HomogenitasSitoplasma  LuasNormalInti  KelilingNormalInti  Eccentricity  \\\n",
       "0               0.945530        0.498148            1.951304      0.777343   \n",
       "1               0.914822        0.478215            1.795244      0.831555   \n",
       "2               0.965006        0.624609            1.944867      0.944942   \n",
       "3               0.924331        0.579308            2.011173      0.833314   \n",
       "4               0.933804        0.585413            1.981181      0.877510   \n",
       "\n",
       "   LIperLP    KIperKP  Fraktal  \n",
       "0  0.863994  0.663709   1.8206  \n",
       "1  0.794384  0.443249   1.7671  \n",
       "2  0.945138  0.964185   1.7987  \n",
       "3  0.834746  0.675106   1.7654  \n",
       "4  0.851595  0.795057   1.8390  \n",
       "\n",
       "[5 rows x 31 columns]"
      ]
     },
     "execution_count": 6,
     "metadata": {},
     "output_type": "execute_result"
    }
   ],
   "source": [
    "al3 = al2.reset_index()\n",
    "al3.head()"
   ]
  },
  {
   "cell_type": "markdown",
   "metadata": {},
   "source": [
    "After we change classes besides lymphoblast into one class, non lymphoblast, we can look the distribution of 2 classes"
   ]
  },
  {
   "cell_type": "code",
   "execution_count": null,
   "metadata": {
    "scrolled": false
   },
   "outputs": [],
   "source": [
    "data = go.Histogram(x=al3.No_Citra)\n",
    "fig = go.Figure(data=data)\n",
    "iplot(fig)"
   ]
  },
  {
   "cell_type": "markdown",
   "metadata": {},
   "source": [
    "Look like we meet imbalanced data, we need to solve this problem by using oversample"
   ]
  },
  {
   "cell_type": "code",
   "execution_count": null,
   "metadata": {},
   "outputs": [],
   "source": [
    "from sklearn.model_selection import train_test_split\n",
    "from sklearn.model_selection import cross_val_score\n",
    "from sklearn.metrics import confusion_matrix, classification_report, precision_recall_curve\n",
    "from sklearn.metrics import accuracy_score, f1_score, precision_score, recall_score\n",
    "from sklearn.ensemble import RandomForestClassifier\n",
    "from sklearn.neighbors import KNeighborsClassifier as KNN\n",
    "from sklearn.naive_bayes import GaussianNB, BernoulliNB\n",
    "from sklearn.svm import SVC\n",
    "from sklearn.neural_network import MLPClassifier\n",
    "\n",
    "y = al3.No_Citra\n",
    "X = al3.drop(['No_Citra'], axis=1)\n"
   ]
  },
  {
   "cell_type": "markdown",
   "metadata": {},
   "source": [
    "Using SMOTE method by imblearn python module to oversampling the data, so the data distribution can balanced each other"
   ]
  },
  {
   "cell_type": "code",
   "execution_count": null,
   "metadata": {},
   "outputs": [],
   "source": [
    "import imblearn\n",
    "from imblearn.over_sampling import SMOTE\n",
    "\n",
    "oversample = SMOTE()\n",
    "X_res, y_res = oversample.fit_resample(X, y)\n"
   ]
  },
  {
   "cell_type": "code",
   "execution_count": null,
   "metadata": {
    "scrolled": true
   },
   "outputs": [],
   "source": [
    "y_over = pd.Series(y_res)\n",
    "y_over.value_counts().plot(kind='bar')"
   ]
  },
  {
   "cell_type": "markdown",
   "metadata": {},
   "source": [
    "Distribution data after oversampling are balanced. We can continue to build machine learning models and train the data"
   ]
  },
  {
   "cell_type": "markdown",
   "metadata": {},
   "source": [
    "# Build Machine Learning Models"
   ]
  },
  {
   "cell_type": "markdown",
   "metadata": {},
   "source": [
    "Divide the data for training and testing"
   ]
  },
  {
   "cell_type": "code",
   "execution_count": null,
   "metadata": {},
   "outputs": [],
   "source": [
    "X_train, X_test, y_train, y_test = train_test_split(X_res, y_res, train_size=0.8, test_size=0.2, random_state=0)"
   ]
  },
  {
   "cell_type": "markdown",
   "metadata": {},
   "source": [
    "# SVC"
   ]
  },
  {
   "cell_type": "markdown",
   "metadata": {},
   "source": [
    "Choose different models of Support Machine Classifier based on their kernel"
   ]
  },
  {
   "cell_type": "code",
   "execution_count": null,
   "metadata": {},
   "outputs": [],
   "source": [
    "from sklearn.svm import SVC\n",
    "\n",
    "def SVC_RBF(X_train, X_test, y_train, y_test):\n",
    "    model = SVC(gamma='scale', kernel='rbf')\n",
    "    model.fit(X_train, y_train)\n",
    "    pred = model.predict(X_test)\n",
    "    return accuracy_score(y_test, pred)\n",
    "\n",
    "\n",
    "def SVC_Linear(X_train, X_test, y_train, y_test):\n",
    "    model = SVC(gamma='scale', kernel='linear')\n",
    "    model.fit(X_train, y_train)\n",
    "    pred = model.predict(X_test)\n",
    "    return accuracy_score(y_test, pred)\n",
    "\n",
    "\n",
    "def SVC_Sigmoid(X_train, X_test, y_train, y_test):\n",
    "    model = SVC(gamma='scale', kernel='sigmoid')\n",
    "    model.fit(X_train, y_train)\n",
    "    pred = model.predict(X_test)\n",
    "    return accuracy_score(y_test, pred)\n",
    "\n",
    "\n",
    "def SVC_Polynomial(X_train, X_test, y_train, y_test):\n",
    "    model = SVC(gamma='scale', kernel='poly')\n",
    "    model.fit(X_train, y_train)\n",
    "    pred = model.predict(X_test)\n",
    "    return accuracy_score(y_test, pred)"
   ]
  },
  {
   "cell_type": "code",
   "execution_count": null,
   "metadata": {},
   "outputs": [],
   "source": [
    "print('Accuracy yang didapatkan dari SVC dengan RBF kernel')\n",
    "print(SVC_RBF(X_train, X_test, y_train, y_test))\n",
    "print('Accuracy yang didapatkan dari SVC dengan Linear kernel')\n",
    "print(SVC_Linear(X_train, X_test, y_train, y_test))\n",
    "print('Accuracy yang didapatkan dari SVC dengan Sigmoid kernel')\n",
    "print(SVC_Sigmoid(X_train, X_test, y_train, y_test))\n",
    "print('Accuracy yang didapatkan dari SVC dengan Polynomial kernel')\n",
    "print(SVC_Polynomial(X_train, X_test, y_train, y_test))"
   ]
  },
  {
   "cell_type": "markdown",
   "metadata": {},
   "source": [
    "The best SVC model choosed to be visualized all over perfomance"
   ]
  },
  {
   "cell_type": "code",
   "execution_count": null,
   "metadata": {},
   "outputs": [],
   "source": [
    "model = SVC(gamma='scale', kernel='linear')\n",
    "model.fit(X_train, y_train)\n",
    "pred = model.predict(X_test)\n",
    "print(accuracy_score(y_test, pred))\n",
    "confutrix_SVC = pd.DataFrame(confusion_matrix(y_test, pred), index=['true Good','true Bad'], columns=['Pred Good', 'Pred Bad'] )\n",
    "print(confutrix_SVC)\n",
    "print(classification_report(y_test, pred))"
   ]
  },
  {
   "cell_type": "markdown",
   "metadata": {},
   "source": [
    "# Random Forest"
   ]
  },
  {
   "cell_type": "markdown",
   "metadata": {},
   "source": [
    "Using Random Forest Classifier Model"
   ]
  },
  {
   "cell_type": "code",
   "execution_count": null,
   "metadata": {},
   "outputs": [],
   "source": [
    "model = RandomForestClassifier(n_estimators=10000, max_features='auto', random_state=0)\n",
    "model.fit(X_train, y_train)\n",
    "pred = model.predict(X_test)\n",
    "print('\\n Model Accuracy:', accuracy_score(y_test, pred))\n",
    "confutrix_RF = pd.DataFrame(confusion_matrix(y_test, pred), index=['true Good','true Bad'], columns=['Pred Good', 'Pred Bad'] )\n",
    "print(confutrix_RF)\n",
    "print(classification_report(y_test, pred))\n"
   ]
  },
  {
   "cell_type": "markdown",
   "metadata": {},
   "source": [
    "# Naive Bayes"
   ]
  },
  {
   "cell_type": "code",
   "execution_count": null,
   "metadata": {},
   "outputs": [],
   "source": [
    "model = GaussianNB()\n",
    "model.fit(X_train, y_train)\n",
    "pred = model.predict(X_test) \n",
    "confutrix_NB = pd.DataFrame(confusion_matrix(y_test, pred), index=['true Good','true Bad'], columns=['Pred Good', 'Pred Bad'] )\n",
    "report = classification_report(y_test, pred)\n",
    "print('Model Accuracy:', accuracy_score(y_test, pred))\n",
    "print(confutrix_NB)\n",
    "print(report)\n"
   ]
  },
  {
   "cell_type": "markdown",
   "metadata": {},
   "source": [
    "# K-Nearest Neighbors"
   ]
  },
  {
   "cell_type": "code",
   "execution_count": null,
   "metadata": {},
   "outputs": [],
   "source": [
    "def KNN_KDT(X_train, X_test, y_train, y_test):\n",
    "    model = KNN(n_neighbors=1, algorithm='kd_tree', leaf_size=1000)\n",
    "    model.fit(X_train, y_train)\n",
    "    pred = model.predict(X_test)\n",
    "    return accuracy_score(y_test, pred)\n",
    "\n",
    "def KNN_Ball(X_train, X_test, y_train, y_test):\n",
    "    model = KNN(algorithm='ball_tree', n_neighbors=1, leaf_size=10000)\n",
    "    model.fit(X_train, y_train)\n",
    "    pred = model.predict(X_test)\n",
    "    return accuracy_score(y_test, pred)\n",
    "\n",
    "print('Akurasi KNN dengan algoritma KDTree:')\n",
    "print(KNN_KDT(X_train, X_test, y_train, y_test))\n",
    "print('Akurasi KNN dengan algoritma BallTree:')\n",
    "print(KNN_Ball(X_train, X_test, y_train, y_test))"
   ]
  },
  {
   "cell_type": "code",
   "execution_count": null,
   "metadata": {},
   "outputs": [],
   "source": [
    "model = KNN(algorithm='kd_tree', n_neighbors=1, leaf_size=1000)\n",
    "model.fit(X_train, y_train)\n",
    "pred = model.predict(X_test) \n",
    "confutrix_KNN = pd.DataFrame(confusion_matrix(y_test, pred), index=['true Good','true Bad'], columns=['Pred Good', 'Pred Bad'] )\n",
    "report = classification_report(y_test, pred)\n",
    "print('Model Accuracy:', accuracy_score(y_test, pred))\n",
    "print(confutrix_KNN)\n",
    "print(report)\n"
   ]
  },
  {
   "cell_type": "markdown",
   "metadata": {},
   "source": [
    "# Neural Network (Multilayer Perceptron) using Sklearn"
   ]
  },
  {
   "cell_type": "code",
   "execution_count": null,
   "metadata": {},
   "outputs": [],
   "source": [
    "model = MLPClassifier(hidden_layer_sizes=5000, solver='adam', learning_rate='adaptive', activation='relu',\n",
    "                      alpha=0.00001, max_iter=5000)\n",
    "model.fit(X_train, y_train)\n",
    "pred = model.predict(X_test) \n",
    "confutrix_MLP = pd.DataFrame(confusion_matrix(y_test, pred), index=['true Good','true Bad'], columns=['Pred Good', 'Pred Bad'] )\n",
    "report = classification_report(y_test, pred)\n",
    "print('Model Accuracy:', accuracy_score(y_test, pred))\n",
    "print(confutrix_MLP)\n",
    "print(report)"
   ]
  },
  {
   "cell_type": "markdown",
   "metadata": {},
   "source": [
    "# Neural Network using Tensorflow.keras"
   ]
  },
  {
   "cell_type": "code",
   "execution_count": 10,
   "metadata": {},
   "outputs": [
    {
     "name": "stderr",
     "output_type": "stream",
     "text": [
      "Using TensorFlow backend.\n"
     ]
    }
   ],
   "source": [
    "import imblearn\n",
    "from imblearn.over_sampling import SMOTE\n",
    "\n",
    "\n",
    "al4 = al3.copy()\n",
    "\n",
    "y1 = al4.No_Citra\n",
    "X1 = al4.drop(['No_Citra'], axis=1)\n",
    "\n",
    "oversample = SMOTE()\n",
    "X_res, y_res = oversample.fit_resample(X1, y1)\n"
   ]
  },
  {
   "cell_type": "code",
   "execution_count": 11,
   "metadata": {},
   "outputs": [
    {
     "data": {
      "text/plain": [
       "array(['Limfoblas', 'Limfoblas', 'Limfoblas', ..., 'Limfoblas',\n",
       "       'Limfoblas', 'Limfoblas'], dtype=object)"
      ]
     },
     "execution_count": 11,
     "metadata": {},
     "output_type": "execute_result"
    }
   ],
   "source": [
    "y_res"
   ]
  },
  {
   "cell_type": "code",
   "execution_count": 14,
   "metadata": {},
   "outputs": [],
   "source": [
    "from sklearn.preprocessing import LabelEncoder\n",
    "\n",
    "label_encoder = LabelEncoder()\n",
    "\n",
    "y1_res = label_encoder.fit_transform(y_res)"
   ]
  },
  {
   "cell_type": "code",
   "execution_count": 17,
   "metadata": {},
   "outputs": [
    {
     "data": {
      "text/plain": [
       "<matplotlib.axes._subplots.AxesSubplot at 0x1bd2d622048>"
      ]
     },
     "execution_count": 17,
     "metadata": {},
     "output_type": "execute_result"
    },
    {
     "data": {
      "image/png": "[encoded data removed]",
      "text/plain": [
       "<Figure size 432x288 with 1 Axes>"
      ]
     },
     "metadata": {
      "needs_background": "light"
     },
     "output_type": "display_data"
    }
   ],
   "source": [
    "y_over = pd.Series(y1_res)\n",
    "y_over.value_counts().plot(kind='bar')"
   ]
  },
  {
   "cell_type": "code",
   "execution_count": 20,
   "metadata": {},
   "outputs": [],
   "source": [
    "from sklearn.model_selection import train_test_split\n",
    "\n",
    "X1_train, X1_test, y1_train, y1_test = train_test_split(X_res, y1_res, train_size=0.8, test_size=0.2, random_state=0)"
   ]
  },
  {
   "cell_type": "code",
   "execution_count": 21,
   "metadata": {},
   "outputs": [],
   "source": [
    "X_train_val, X_val, y_train_val, y_val = train_test_split(X1_train, y1_train, train_size=0.9, test_size=0.1, random_state=0)\n",
    "\n",
    "#X_train_val = X_train_val[0:1].shape\n",
    "#X_val = X_val[0:1].shape"
   ]
  },
  {
   "cell_type": "code",
   "execution_count": 22,
   "metadata": {},
   "outputs": [
    {
     "name": "stderr",
     "output_type": "stream",
     "text": [
      "WARNING: Logging before flag parsing goes to stderr.\n",
      "W0405 21:16:35.532476   852 deprecation.py:506] From F:\\python\\WPy64-3740\\python-3.7.4.amd64\\lib\\site-packages\\tensorflow\\python\\ops\\init_ops.py:1251: calling VarianceScaling.__init__ (from tensorflow.python.ops.init_ops) with dtype is deprecated and will be removed in a future version.\n",
      "Instructions for updating:\n",
      "Call initializer instance with the dtype argument instead of passing it to the constructor\n",
      "W0405 21:16:35.964490   852 deprecation.py:323] From F:\\python\\WPy64-3740\\python-3.7.4.amd64\\lib\\site-packages\\tensorflow\\python\\ops\\nn_impl.py:180: add_dispatch_support.<locals>.wrapper (from tensorflow.python.ops.array_ops) is deprecated and will be removed in a future version.\n",
      "Instructions for updating:\n",
      "Use tf.where in 2.0, which has the same broadcast rule as np.where\n"
     ]
    },
    {
     "name": "stdout",
     "output_type": "stream",
     "text": [
      "Model: \"sequential\"\n",
      "_________________________________________________________________\n",
      "Layer (type)                 Output Shape              Param #   \n",
      "=================================================================\n",
      "dense (Dense)                (None, 32)                992       \n",
      "_________________________________________________________________\n",
      "batch_normalization (BatchNo (None, 32)                128       \n",
      "_________________________________________________________________\n",
      "dense_1 (Dense)              (None, 32)                1056      \n",
      "_________________________________________________________________\n",
      "batch_normalization_1 (Batch (None, 32)                128       \n",
      "_________________________________________________________________\n",
      "dense_2 (Dense)              (None, 16)                528       \n",
      "_________________________________________________________________\n",
      "batch_normalization_2 (Batch (None, 16)                64        \n",
      "_________________________________________________________________\n",
      "dense_3 (Dense)              (None, 1)                 17        \n",
      "=================================================================\n",
      "Total params: 2,913\n",
      "Trainable params: 2,753\n",
      "Non-trainable params: 160\n",
      "_________________________________________________________________\n",
      "None\n"
     ]
    }
   ],
   "source": [
    "import tensorflow as tf\n",
    "from tensorflow.keras.models import Sequential\n",
    "from tensorflow.keras.layers import Dense, BatchNormalization, Dropout\n",
    "from tensorflow.keras import optimizers\n",
    "\n",
    "\n",
    "model = Sequential()\n",
    "model.add(Dense(32, input_dim=30, activation='relu'))\n",
    "model.add(BatchNormalization())\n",
    "model.add(Dense(32, activation='relu'))\n",
    "model.add(BatchNormalization())\n",
    "model.add(Dense(16, activation='relu'))\n",
    "model.add(BatchNormalization())\n",
    "model.add(Dense(1, activation='sigmoid'))\n",
    "\n",
    "adam = optimizers.Adam(learning_rate=0.001, beta_1=0.9, beta_2=0.999, amsgrad=False)\n",
    "model.compile(loss='binary_crossentropy', optimizer='adam', metrics=['accuracy'])\n",
    "print(model.summary())"
   ]
  },
  {
   "cell_type": "code",
   "execution_count": 23,
   "metadata": {
    "scrolled": false
   },
   "outputs": [
    {
     "name": "stdout",
     "output_type": "stream",
     "text": [
      "Train on 1944 samples, validate on 216 samples\n",
      "Epoch 1/100\n",
      "1944/1944 [==============================] - 1s 556us/sample - loss: 0.4914 - acc: 0.7675 - val_loss: 0.4181 - val_acc: 0.8333\n",
      "Epoch 2/100\n",
      "1944/1944 [==============================] - 1s 299us/sample - loss: 0.4017 - acc: 0.8158 - val_loss: 0.3802 - val_acc: 0.8333\n",
      "Epoch 3/100\n",
      "1944/1944 [==============================] - 1s 299us/sample - loss: 0.3922 - acc: 0.8225 - val_loss: 0.3473 - val_acc: 0.8333\n",
      "Epoch 4/100\n",
      "1944/1944 [==============================] - 1s 301us/sample - loss: 0.3828 - acc: 0.8302 - val_loss: 0.3758 - val_acc: 0.8333\n",
      "Epoch 5/100\n",
      "1944/1944 [==============================] - 1s 297us/sample - loss: 0.3854 - acc: 0.8313 - val_loss: 0.3839 - val_acc: 0.8333\n",
      "Epoch 6/100\n",
      "1944/1944 [==============================] - 1s 304us/sample - loss: 0.3846 - acc: 0.8287 - val_loss: 0.3601 - val_acc: 0.8287\n",
      "Epoch 7/100\n",
      "1944/1944 [==============================] - 1s 323us/sample - loss: 0.3805 - acc: 0.8287 - val_loss: 0.3788 - val_acc: 0.8380\n",
      "Epoch 8/100\n",
      "1944/1944 [==============================] - 1s 305us/sample - loss: 0.3786 - acc: 0.8251 - val_loss: 0.3431 - val_acc: 0.8426\n",
      "Epoch 9/100\n",
      "1944/1944 [==============================] - 1s 304us/sample - loss: 0.3702 - acc: 0.8344 - val_loss: 0.3667 - val_acc: 0.8287\n",
      "Epoch 10/100\n",
      "1944/1944 [==============================] - 1s 326us/sample - loss: 0.3652 - acc: 0.8354 - val_loss: 0.3586 - val_acc: 0.8241\n",
      "Epoch 11/100\n",
      "1944/1944 [==============================] - 1s 311us/sample - loss: 0.3649 - acc: 0.8323 - val_loss: 0.3581 - val_acc: 0.8380\n",
      "Epoch 12/100\n",
      "1944/1944 [==============================] - 1s 358us/sample - loss: 0.3619 - acc: 0.8359 - val_loss: 0.3698 - val_acc: 0.8194\n",
      "Epoch 13/100\n",
      "1944/1944 [==============================] - 1s 333us/sample - loss: 0.3625 - acc: 0.8421 - val_loss: 0.3550 - val_acc: 0.8241\n",
      "Epoch 14/100\n",
      "1944/1944 [==============================] - 1s 322us/sample - loss: 0.3558 - acc: 0.8354 - val_loss: 0.3527 - val_acc: 0.8426\n",
      "Epoch 15/100\n",
      "1944/1944 [==============================] - 1s 363us/sample - loss: 0.3563 - acc: 0.8416 - val_loss: 0.3338 - val_acc: 0.8241\n",
      "Epoch 16/100\n",
      "1944/1944 [==============================] - 1s 455us/sample - loss: 0.3552 - acc: 0.8421 - val_loss: 0.3283 - val_acc: 0.8380\n",
      "Epoch 17/100\n",
      "1944/1944 [==============================] - 1s 315us/sample - loss: 0.3536 - acc: 0.8457 - val_loss: 0.3384 - val_acc: 0.8333\n",
      "Epoch 18/100\n",
      "1944/1944 [==============================] - 1s 346us/sample - loss: 0.3627 - acc: 0.8338 - val_loss: 0.3440 - val_acc: 0.8287\n",
      "Epoch 19/100\n",
      "1944/1944 [==============================] - 1s 348us/sample - loss: 0.3673 - acc: 0.8354 - val_loss: 0.4054 - val_acc: 0.8102\n",
      "Epoch 20/100\n",
      "1944/1944 [==============================] - 1s 323us/sample - loss: 0.3580 - acc: 0.8421 - val_loss: 0.3424 - val_acc: 0.8519\n",
      "Epoch 21/100\n",
      "1944/1944 [==============================] - 1s 369us/sample - loss: 0.3588 - acc: 0.8344 - val_loss: 0.3344 - val_acc: 0.8519\n",
      "Epoch 22/100\n",
      "1944/1944 [==============================] - 1s 348us/sample - loss: 0.3491 - acc: 0.8410 - val_loss: 0.3664 - val_acc: 0.8194\n",
      "Epoch 23/100\n",
      "1944/1944 [==============================] - 1s 310us/sample - loss: 0.3717 - acc: 0.8385 - val_loss: 0.4238 - val_acc: 0.7870\n",
      "Epoch 24/100\n",
      "1944/1944 [==============================] - 1s 325us/sample - loss: 0.3716 - acc: 0.8359 - val_loss: 0.3539 - val_acc: 0.8241\n",
      "Epoch 25/100\n",
      "1944/1944 [==============================] - 1s 320us/sample - loss: 0.3630 - acc: 0.8385 - val_loss: 0.3579 - val_acc: 0.8241\n",
      "Epoch 26/100\n",
      "1944/1944 [==============================] - 1s 329us/sample - loss: 0.3570 - acc: 0.8477 - val_loss: 0.3625 - val_acc: 0.8333\n",
      "Epoch 27/100\n",
      "1944/1944 [==============================] - 1s 325us/sample - loss: 0.3581 - acc: 0.8416 - val_loss: 0.3403 - val_acc: 0.8241\n",
      "Epoch 28/100\n",
      "1944/1944 [==============================] - 1s 326us/sample - loss: 0.3489 - acc: 0.8498 - val_loss: 0.3359 - val_acc: 0.8241\n",
      "Epoch 29/100\n",
      "1944/1944 [==============================] - 1s 316us/sample - loss: 0.3527 - acc: 0.8426 - val_loss: 0.3550 - val_acc: 0.8287\n",
      "Epoch 30/100\n",
      "1944/1944 [==============================] - 1s 345us/sample - loss: 0.3590 - acc: 0.8426 - val_loss: 0.3938 - val_acc: 0.8056\n",
      "Epoch 31/100\n",
      "1944/1944 [==============================] - 1s 384us/sample - loss: 0.3513 - acc: 0.8457 - val_loss: 0.3713 - val_acc: 0.8194\n",
      "Epoch 32/100\n",
      "1944/1944 [==============================] - 1s 332us/sample - loss: 0.3444 - acc: 0.8493 - val_loss: 0.3526 - val_acc: 0.8287\n",
      "Epoch 33/100\n",
      "1944/1944 [==============================] - 1s 359us/sample - loss: 0.3435 - acc: 0.8524 - val_loss: 0.3427 - val_acc: 0.8333\n",
      "Epoch 34/100\n",
      "1944/1944 [==============================] - 1s 327us/sample - loss: 0.3415 - acc: 0.8503 - val_loss: 0.3383 - val_acc: 0.8287\n",
      "Epoch 35/100\n",
      "1944/1944 [==============================] - 1s 314us/sample - loss: 0.3362 - acc: 0.8560 - val_loss: 0.3434 - val_acc: 0.8333\n",
      "Epoch 36/100\n",
      "1944/1944 [==============================] - 1s 320us/sample - loss: 0.3370 - acc: 0.8570 - val_loss: 0.3388 - val_acc: 0.8426\n",
      "Epoch 37/100\n",
      "1944/1944 [==============================] - 1s 322us/sample - loss: 0.3373 - acc: 0.8549 - val_loss: 0.3371 - val_acc: 0.8426\n",
      "Epoch 38/100\n",
      "1944/1944 [==============================] - 1s 322us/sample - loss: 0.3404 - acc: 0.8539 - val_loss: 0.3724 - val_acc: 0.8056\n",
      "Epoch 39/100\n",
      "1944/1944 [==============================] - 1s 321us/sample - loss: 0.3423 - acc: 0.8549 - val_loss: 0.3292 - val_acc: 0.8426\n",
      "Epoch 40/100\n",
      "1944/1944 [==============================] - 1s 321us/sample - loss: 0.3371 - acc: 0.8549 - val_loss: 0.3291 - val_acc: 0.8287\n",
      "Epoch 41/100\n",
      "1944/1944 [==============================] - 1s 325us/sample - loss: 0.3315 - acc: 0.8529 - val_loss: 0.4012 - val_acc: 0.8287\n",
      "Epoch 42/100\n",
      "1944/1944 [==============================] - 1s 339us/sample - loss: 0.3331 - acc: 0.8519 - val_loss: 0.3276 - val_acc: 0.8426\n",
      "Epoch 43/100\n",
      "1944/1944 [==============================] - 1s 315us/sample - loss: 0.3285 - acc: 0.8580 - val_loss: 0.3537 - val_acc: 0.8194\n",
      "Epoch 44/100\n",
      "1944/1944 [==============================] - 1s 313us/sample - loss: 0.3241 - acc: 0.8555 - val_loss: 0.3376 - val_acc: 0.8287\n",
      "Epoch 45/100\n",
      "1944/1944 [==============================] - 1s 316us/sample - loss: 0.3220 - acc: 0.8606 - val_loss: 0.3301 - val_acc: 0.8472\n",
      "Epoch 46/100\n",
      "1944/1944 [==============================] - 1s 311us/sample - loss: 0.3215 - acc: 0.8580 - val_loss: 0.3414 - val_acc: 0.8333\n",
      "Epoch 47/100\n",
      "1944/1944 [==============================] - 1s 315us/sample - loss: 0.3192 - acc: 0.8627 - val_loss: 0.3414 - val_acc: 0.8194\n",
      "Epoch 48/100\n",
      "1944/1944 [==============================] - 1s 302us/sample - loss: 0.3167 - acc: 0.8606 - val_loss: 0.3276 - val_acc: 0.8426\n",
      "Epoch 49/100\n",
      "1944/1944 [==============================] - 1s 316us/sample - loss: 0.3139 - acc: 0.8627 - val_loss: 0.3357 - val_acc: 0.8380\n",
      "Epoch 50/100\n",
      "1944/1944 [==============================] - 1s 317us/sample - loss: 0.3143 - acc: 0.8632 - val_loss: 0.3395 - val_acc: 0.8380\n",
      "Epoch 51/100\n",
      "1944/1944 [==============================] - 1s 328us/sample - loss: 0.3159 - acc: 0.8663 - val_loss: 0.3404 - val_acc: 0.8287\n",
      "Epoch 52/100\n",
      "1944/1944 [==============================] - 1s 318us/sample - loss: 0.3428 - acc: 0.8508 - val_loss: 0.3748 - val_acc: 0.8148\n",
      "Epoch 53/100\n",
      "1944/1944 [==============================] - 1s 314us/sample - loss: 0.3102 - acc: 0.8657 - val_loss: 0.3484 - val_acc: 0.8194\n",
      "Epoch 54/100\n",
      "1944/1944 [==============================] - 1s 315us/sample - loss: 0.3096 - acc: 0.8627 - val_loss: 0.3509 - val_acc: 0.8287\n",
      "Epoch 55/100\n",
      "1944/1944 [==============================] - 1s 351us/sample - loss: 0.3093 - acc: 0.8688 - val_loss: 0.3337 - val_acc: 0.8426\n",
      "Epoch 56/100\n",
      "1944/1944 [==============================] - 1s 323us/sample - loss: 0.3094 - acc: 0.8704 - val_loss: 0.3601 - val_acc: 0.8241\n",
      "Epoch 57/100\n",
      "1944/1944 [==============================] - 1s 340us/sample - loss: 0.3054 - acc: 0.8668 - val_loss: 0.4193 - val_acc: 0.7917\n",
      "Epoch 58/100\n",
      "1944/1944 [==============================] - 1s 334us/sample - loss: 0.3139 - acc: 0.8627 - val_loss: 0.3528 - val_acc: 0.8426\n",
      "Epoch 59/100\n"
     ]
    },
    {
     "name": "stdout",
     "output_type": "stream",
     "text": [
      "1944/1944 [==============================] - 1s 297us/sample - loss: 0.3101 - acc: 0.8657 - val_loss: 0.3837 - val_acc: 0.8102\n",
      "Epoch 60/100\n",
      "1944/1944 [==============================] - 1s 312us/sample - loss: 0.2991 - acc: 0.8735 - val_loss: 0.3556 - val_acc: 0.8426\n",
      "Epoch 61/100\n",
      "1944/1944 [==============================] - 1s 299us/sample - loss: 0.2972 - acc: 0.8724 - val_loss: 0.3594 - val_acc: 0.8287\n",
      "Epoch 62/100\n",
      "1944/1944 [==============================] - 1s 344us/sample - loss: 0.3056 - acc: 0.8724 - val_loss: 0.3459 - val_acc: 0.8102\n",
      "Epoch 63/100\n",
      "1944/1944 [==============================] - 1s 320us/sample - loss: 0.3138 - acc: 0.8637 - val_loss: 0.4580 - val_acc: 0.7824\n",
      "Epoch 64/100\n",
      "1944/1944 [==============================] - 1s 318us/sample - loss: 0.3003 - acc: 0.8704 - val_loss: 0.3518 - val_acc: 0.8194\n",
      "Epoch 65/100\n",
      "1944/1944 [==============================] - 1s 313us/sample - loss: 0.3001 - acc: 0.8724 - val_loss: 0.3453 - val_acc: 0.8241\n",
      "Epoch 66/100\n",
      "1944/1944 [==============================] - 1s 314us/sample - loss: 0.2976 - acc: 0.8688 - val_loss: 0.3514 - val_acc: 0.8426\n",
      "Epoch 67/100\n",
      "1944/1944 [==============================] - 1s 298us/sample - loss: 0.2964 - acc: 0.8724 - val_loss: 0.4157 - val_acc: 0.8194\n",
      "Epoch 68/100\n",
      "1944/1944 [==============================] - 1s 315us/sample - loss: 0.2901 - acc: 0.8755 - val_loss: 0.3749 - val_acc: 0.8194\n",
      "Epoch 69/100\n",
      "1944/1944 [==============================] - 1s 329us/sample - loss: 0.2844 - acc: 0.8760 - val_loss: 0.4271 - val_acc: 0.8056\n",
      "Epoch 70/100\n",
      "1944/1944 [==============================] - 1s 344us/sample - loss: 0.2840 - acc: 0.8786 - val_loss: 0.3869 - val_acc: 0.8287\n",
      "Epoch 71/100\n",
      "1944/1944 [==============================] - 1s 299us/sample - loss: 0.2875 - acc: 0.8807 - val_loss: 0.7248 - val_acc: 0.7176\n",
      "Epoch 72/100\n",
      "1944/1944 [==============================] - 1s 314us/sample - loss: 0.2966 - acc: 0.8771 - val_loss: 0.3829 - val_acc: 0.8102\n",
      "Epoch 73/100\n",
      "1944/1944 [==============================] - 1s 304us/sample - loss: 0.3049 - acc: 0.8704 - val_loss: 0.3502 - val_acc: 0.8148\n",
      "Epoch 74/100\n",
      "1944/1944 [==============================] - 1s 321us/sample - loss: 0.2882 - acc: 0.8760 - val_loss: 0.3765 - val_acc: 0.8056\n",
      "Epoch 75/100\n",
      "1944/1944 [==============================] - 1s 322us/sample - loss: 0.2840 - acc: 0.8822 - val_loss: 0.3541 - val_acc: 0.8056\n",
      "Epoch 76/100\n",
      "1944/1944 [==============================] - 1s 329us/sample - loss: 0.2988 - acc: 0.8776 - val_loss: 0.3510 - val_acc: 0.8148\n",
      "Epoch 77/100\n",
      "1944/1944 [==============================] - 1s 314us/sample - loss: 0.2949 - acc: 0.8745 - val_loss: 0.3695 - val_acc: 0.7870\n",
      "Epoch 78/100\n",
      "1944/1944 [==============================] - 1s 309us/sample - loss: 0.2802 - acc: 0.8837 - val_loss: 0.3447 - val_acc: 0.8519\n",
      "Epoch 79/100\n",
      "1944/1944 [==============================] - 1s 349us/sample - loss: 0.2857 - acc: 0.8786 - val_loss: 0.3724 - val_acc: 0.8102\n",
      "Epoch 80/100\n",
      "1944/1944 [==============================] - 1s 336us/sample - loss: 0.2860 - acc: 0.8781 - val_loss: 0.4501 - val_acc: 0.7824\n",
      "Epoch 81/100\n",
      "1944/1944 [==============================] - 1s 342us/sample - loss: 0.2757 - acc: 0.8884 - val_loss: 0.3393 - val_acc: 0.8472\n",
      "Epoch 82/100\n",
      "1944/1944 [==============================] - 1s 313us/sample - loss: 0.2827 - acc: 0.8796 - val_loss: 0.3690 - val_acc: 0.8148\n",
      "Epoch 83/100\n",
      "1944/1944 [==============================] - 1s 297us/sample - loss: 0.2832 - acc: 0.8822 - val_loss: 0.3423 - val_acc: 0.8472\n",
      "Epoch 84/100\n",
      "1944/1944 [==============================] - 1s 314us/sample - loss: 0.2760 - acc: 0.8848 - val_loss: 0.3394 - val_acc: 0.8519\n",
      "Epoch 85/100\n",
      "1944/1944 [==============================] - 1s 328us/sample - loss: 0.2810 - acc: 0.8863 - val_loss: 0.3429 - val_acc: 0.8426\n",
      "Epoch 86/100\n",
      "1944/1944 [==============================] - 1s 313us/sample - loss: 0.2737 - acc: 0.8873 - val_loss: 0.3766 - val_acc: 0.8102\n",
      "Epoch 87/100\n",
      "1944/1944 [==============================] - 1s 325us/sample - loss: 0.2761 - acc: 0.8853 - val_loss: 0.3299 - val_acc: 0.8472\n",
      "Epoch 88/100\n",
      "1944/1944 [==============================] - 1s 315us/sample - loss: 0.2683 - acc: 0.8879 - val_loss: 0.3465 - val_acc: 0.8287\n",
      "Epoch 89/100\n",
      "1944/1944 [==============================] - 1s 310us/sample - loss: 0.2674 - acc: 0.8889 - val_loss: 0.3740 - val_acc: 0.8102\n",
      "Epoch 90/100\n",
      "1944/1944 [==============================] - 1s 301us/sample - loss: 0.2712 - acc: 0.8863 - val_loss: 0.4285 - val_acc: 0.7963\n",
      "Epoch 91/100\n",
      "1944/1944 [==============================] - 1s 317us/sample - loss: 0.2726 - acc: 0.8879 - val_loss: 0.4628 - val_acc: 0.7963\n",
      "Epoch 92/100\n",
      "1944/1944 [==============================] - 1s 319us/sample - loss: 0.2659 - acc: 0.8899 - val_loss: 0.3893 - val_acc: 0.8056\n",
      "Epoch 93/100\n",
      "1944/1944 [==============================] - 1s 312us/sample - loss: 0.2647 - acc: 0.8884 - val_loss: 0.4051 - val_acc: 0.8102\n",
      "Epoch 94/100\n",
      "1944/1944 [==============================] - 1s 316us/sample - loss: 0.2801 - acc: 0.8894 - val_loss: 0.4740 - val_acc: 0.7824\n",
      "Epoch 95/100\n",
      "1944/1944 [==============================] - 1s 340us/sample - loss: 0.2710 - acc: 0.8863 - val_loss: 0.4646 - val_acc: 0.7824\n",
      "Epoch 96/100\n",
      "1944/1944 [==============================] - 1s 313us/sample - loss: 0.2598 - acc: 0.8925 - val_loss: 0.4201 - val_acc: 0.8194\n",
      "Epoch 97/100\n",
      "1944/1944 [==============================] - 1s 320us/sample - loss: 0.2682 - acc: 0.8889 - val_loss: 0.4049 - val_acc: 0.8148\n",
      "Epoch 98/100\n",
      "1944/1944 [==============================] - 1s 315us/sample - loss: 0.2740 - acc: 0.8879 - val_loss: 0.3964 - val_acc: 0.7917\n",
      "Epoch 99/100\n",
      "1944/1944 [==============================] - 1s 313us/sample - loss: 0.2679 - acc: 0.8889 - val_loss: 0.4105 - val_acc: 0.7963\n",
      "Epoch 100/100\n",
      "1944/1944 [==============================] - 1s 316us/sample - loss: 0.2667 - acc: 0.8853 - val_loss: 0.3506 - val_acc: 0.8056\n"
     ]
    }
   ],
   "source": [
    "import numpy as np\n",
    "#X_train_val = np.reshape(X_train_val, (X_train_val.shape[0], -1))\n",
    "#X_val = np.reshape(X_val, (X_val.shape[0], -1))\n",
    "\n",
    "history = model.fit(X_train_val, y_train_val, validation_data=(X_val, y_val), shuffle=False, epochs=100, batch_size=8, verbose=1)"
   ]
  },
  {
   "cell_type": "code",
   "execution_count": 24,
   "metadata": {},
   "outputs": [
    {
     "data": {
      "image/png": "[encoded data removed]",
      "text/plain": [
       "<Figure size 432x288 with 1 Axes>"
      ]
     },
     "metadata": {
      "needs_background": "light"
     },
     "output_type": "display_data"
    },
    {
     "data": {
      "image/png": "[encoded data removed]",
      "text/plain": [
       "<Figure size 432x288 with 1 Axes>"
      ]
     },
     "metadata": {
      "needs_background": "light"
     },
     "output_type": "display_data"
    }
   ],
   "source": [
    "import matplotlib.pyplot as plt\n",
    "\n",
    "plt.plot(history.history['acc'])\n",
    "plt.plot(history.history['val_acc'])\n",
    "plt.title('Model accuracy')\n",
    "plt.ylabel('Accuracy')\n",
    "plt.xlabel('Epoch')\n",
    "plt.legend(['Train', 'Validation'], loc='upper left')\n",
    "plt.show()\n",
    "\n",
    "# Plot training & validation loss values\n",
    "plt.plot(history.history['loss'])\n",
    "plt.plot(history.history['val_loss'])\n",
    "plt.title('Model loss')\n",
    "plt.ylabel('Loss')\n",
    "plt.xlabel('Epoch')\n",
    "plt.legend(['Train', 'Validation'], loc='upper left')\n",
    "plt.show()"
   ]
  },
  {
   "cell_type": "code",
   "execution_count": 25,
   "metadata": {},
   "outputs": [
    {
     "name": "stdout",
     "output_type": "stream",
     "text": [
      "540/540 [==============================] - 0s 39us/sample - loss: 0.3698 - acc: 0.8370\n"
     ]
    },
    {
     "data": {
      "text/plain": [
       "[0.3697625105027799, 0.837037]"
      ]
     },
     "execution_count": 25,
     "metadata": {},
     "output_type": "execute_result"
    }
   ],
   "source": [
    "model.save('/my_model.h5')\n",
    "model.evaluate(X1_test, y1_test)"
   ]
  },
  {
   "cell_type": "code",
   "execution_count": null,
   "metadata": {},
   "outputs": [],
   "source": [
    "!jupyter nbconvert  Klasifikasi_ALL_tipe_L1.ipynb --to html"
   ]
  }
 ],
 "metadata": {
  "kernelspec": {
   "display_name": "Python 3",
   "language": "python",
   "name": "python3"
  },
  "language_info": {
   "codemirror_mode": {
    "name": "ipython",
    "version": 3
   },
   "file_extension": ".py",
   "mimetype": "text/x-python",
   "name": "python",
   "nbconvert_exporter": "python",
   "pygments_lexer": "ipython3",
   "version": "3.7.4"
  }
 },
 "nbformat": 4,
 "nbformat_minor": 2
}
